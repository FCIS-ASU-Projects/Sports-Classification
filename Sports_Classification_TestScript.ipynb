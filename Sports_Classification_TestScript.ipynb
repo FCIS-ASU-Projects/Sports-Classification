{
  "nbformat": 4,
  "nbformat_minor": 0,
  "metadata": {
    "colab": {
      "provenance": [],
      "include_colab_link": true
    },
    "kernelspec": {
      "name": "python3",
      "display_name": "Python 3"
    },
    "language_info": {
      "name": "python"
    },
    "accelerator": "GPU",
    "gpuClass": "standard"
  },
  "cells": [
    {
      "cell_type": "markdown",
      "metadata": {
        "id": "view-in-github",
        "colab_type": "text"
      },
      "source": [
        "<a href=\"https://colab.research.google.com/github/HudaZainElAbden/Sports-Classification/blob/main/Sports_Classification_TestScript.ipynb\" target=\"_parent\"><img src=\"https://colab.research.google.com/assets/colab-badge.svg\" alt=\"Open In Colab\"/></a>"
      ]
    },
    {
      "cell_type": "code",
      "execution_count": null,
      "metadata": {
        "colab": {
          "base_uri": "https://localhost:8080/"
        },
        "id": "vUX7rkYDg-79",
        "outputId": "66080a4b-8828-46c2-ba04-d679655bb033"
      },
      "outputs": [
        {
          "output_type": "stream",
          "name": "stdout",
          "text": [
            "2.9.2\n"
          ]
        }
      ],
      "source": [
        "import matplotlib.pyplot as plt\n",
        "from matplotlib import pyplot\n",
        "import pandas as pd\n",
        "import os\n",
        "from tqdm import tqdm\n",
        "from random import shuffle\n",
        "import tensorflow as tf\n",
        "import tensorflow_datasets as tfds\n",
        "import keras.layers as kl\n",
        "import numpy as np\n",
        "import cv2\n",
        "from tensorflow.keras import layers,regularizers\n",
        "from keras.preprocessing.image import ImageDataGenerator\n",
        "from tensorflow.keras.models import Sequential, Model\n",
        "from keras.layers import Input, Conv2D, MaxPooling2D, Dense, UpSampling2D, BatchNormalization,Flatten, Dropout,  Add, Concatenate,AveragePooling2D, ZeroPadding2D,Activation\n",
        "from keras.callbacks import EarlyStopping,ModelCheckpoint\n",
        "from keras.models import load_model\n",
        "import argparse\n",
        "from tensorflow.keras.optimizers import Adam, SGD\n",
        "from tensorflow.keras.initializers import glorot_uniform\n",
        "\n",
        "\n",
        "print(tf.__version__)"
      ]
    },
    {
      "cell_type": "code",
      "source": [
        "from google.colab import drive\n",
        "drive.mount('/content/drive')"
      ],
      "metadata": {
        "colab": {
          "base_uri": "https://localhost:8080/"
        },
        "id": "IwD8YpVvhKbf",
        "outputId": "c5e8652f-38b4-4a45-b95e-733e12f16c5d"
      },
      "execution_count": null,
      "outputs": [
        {
          "output_type": "stream",
          "name": "stdout",
          "text": [
            "Mounted at /content/drive\n"
          ]
        }
      ]
    },
    {
      "cell_type": "code",
      "source": [
        "!unzip -q /content/drive/MyDrive/NNproject/NNDataset.zip -d data"
      ],
      "metadata": {
        "id": "Hq3EfRf1hP42"
      },
      "execution_count": null,
      "outputs": []
    },
    {
      "cell_type": "code",
      "source": [
        "Test_path='/content/data/Test'"
      ],
      "metadata": {
        "id": "JfMDIH7uhTEA"
      },
      "execution_count": null,
      "outputs": []
    },
    {
      "cell_type": "code",
      "source": [
        "from keras.models import model_from_json\n",
        "def predict_(image_path):\n",
        "    image_name=[]\n",
        "    label=[]\n",
        "    #Load the Model from Json File\n",
        "    json_file = open(\"/content/drive/MyDrive/NNproject/best_model.json\", 'r')\n",
        "    model_json_c = json_file.read()\n",
        "    json_file.close()\n",
        "    model_c = model_from_json(model_json_c)\n",
        "    #Load the weights\n",
        "    model_c.load_weights(\"/content/drive/MyDrive/NNproject/xception.h5\")\n",
        "    #Compile the model\n",
        "    model_c.compile(loss=\"categorical_crossentropy\", optimizer='adam',metrics=[\"accuracy\"])\n",
        "    #load the image you want to classify\n",
        "    i=0\n",
        "    for dirname, _, filenames in os.walk(image_path):\n",
        "        for filename in filenames:\n",
        "            path = os.path.join(dirname, filename)\n",
        "            image = cv2.imread(path)\n",
        "            image = cv2.cvtColor(image, cv2.COLOR_BGR2RGB)\n",
        "            image = cv2.resize(image, (229,229)) \n",
        "            image=image/255\n",
        "            image-=0.5\n",
        "            image*=2\n",
        "            #plt.imshow(image)\n",
        "           #predict the image\n",
        "            preds = model_c.predict(np.expand_dims(image, axis=0))[0]\n",
        "            res=preds.argmax()\n",
        "            #print(preds)\n",
        "            image_name.append(filename)\n",
        "            label.append(res)\n",
        "           \n",
        "    return image_name, label "
      ],
      "metadata": {
        "id": "FpCyXTkYhX2Q"
      },
      "execution_count": null,
      "outputs": []
    },
    {
      "cell_type": "code",
      "source": [
        "img_name,labels=predict_(Test_path)\n",
        "df=pd.DataFrame({'image_name':img_name,'label':labels})\n",
        "\n",
        "df.to_csv('/content/drive/MyDrive/NNproject/best_acc.csv', index=False)\n",
        "df.head()"
      ],
      "metadata": {
        "id": "o8QNjr36hezn"
      },
      "execution_count": null,
      "outputs": []
    },
    {
      "cell_type": "code",
      "source": [],
      "metadata": {
        "id": "V-p9fQ8zj-VI"
      },
      "execution_count": null,
      "outputs": []
    }
  ]
}